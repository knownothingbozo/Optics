{
 "cells": [
  {
   "cell_type": "code",
   "execution_count": 1,
   "id": "3638e360-15be-47b8-ac6f-466d732aed4a",
   "metadata": {},
   "outputs": [],
   "source": [
    "import numpy as np\n",
    "import scipy as sp\n",
    "import matplotlib.pyplot as plt\n",
    "from IPython.core.interactiveshell import InteractiveShell\n",
    "InteractiveShell.ast_node_interactivity = 'all'\n",
    "import h5py"
   ]
  },
  {
   "cell_type": "code",
   "execution_count": 8,
   "id": "3c5f3e28-7c66-4dd2-b9fd-858a1e745caa",
   "metadata": {},
   "outputs": [
    {
     "data": {
      "text/plain": [
       "['ey.i', 'ey.r']"
      ]
     },
     "execution_count": 8,
     "metadata": {},
     "output_type": "execute_result"
    }
   ],
   "source": [
    "f1 = h5py.File('build/data/ey-000340.50.h5', 'r')\n",
    "f2 = h5py.File('build/data/ey-000964.50.h5', 'r')\n",
    "list(f1.keys())"
   ]
  },
  {
   "cell_type": "code",
   "execution_count": 15,
   "id": "6a76acd9-1626-47c0-a11c-94edae65f7bc",
   "metadata": {},
   "outputs": [
    {
     "data": {
      "text/plain": [
       "(16000, 2500)"
      ]
     },
     "execution_count": 15,
     "metadata": {},
     "output_type": "execute_result"
    }
   ],
   "source": [
    "dset1 = f1['ey.r']\n",
    "dset2 = f2['ey.r']\n",
    "dset1.shape\n",
    "lim = 1.25*np.max(dset1)"
   ]
  },
  {
   "cell_type": "code",
   "execution_count": 23,
   "id": "e96cde41-69bf-44f5-bb1d-16ed40f1e47e",
   "metadata": {},
   "outputs": [
    {
     "name": "stderr",
     "output_type": "stream",
     "text": [
      "/tmp/ipykernel_75102/2306267523.py:9: UserWarning: No artists with labels found to put in legend.  Note that artists whose label start with an underscore are ignored when legend() is called with no argument.\n",
      "  ax1.legend()\n"
     ]
    },
    {
     "data": {
      "image/png": "[encoded data removed]",
      "text/plain": [
       "<Figure size 1000x400 with 2 Axes>"
      ]
     },
     "metadata": {},
     "output_type": "display_data"
    }
   ],
   "source": [
    "fig = plt.figure(figsize=(10,4), layout='constrained')\n",
    "fig.suptitle(r'Electric field')\n",
    "ax1 = fig.add_subplot(1, 2, 1, title='', xlabel=r'$x$', ylabel=r'$E_y$')\n",
    "ax1.set_ylim([-lim, lim])\n",
    "ax1.plot(np.linspace(0.0, 250.0, dset1.shape[0]), dset1[:,int(dset1.shape[1]/2)], label='hi')\n",
    "ax1 = fig.add_subplot(1, 2, 2, title='', xlabel=r'$x$', ylabel=r'$E_y$')\n",
    "ax1.set_ylim([-lim, lim])\n",
    "ax1.plot(np.linspace(0.0, 250.0, dset1.shape[0]), dset2[:,int(dset1.shape[1]/2)])\n",
    "#ax1.legend()\n",
    "plt.show;"
   ]
  },
  {
   "cell_type": "code",
   "execution_count": null,
   "id": "54071503-4e79-43df-93f1-efcf531dcfd9",
   "metadata": {},
   "outputs": [],
   "source": []
  }
 ],
 "metadata": {
  "kernelspec": {
   "display_name": "Python 3 (ipykernel)",
   "language": "python",
   "name": "python3"
  },
  "language_info": {
   "codemirror_mode": {
    "name": "ipython",
    "version": 3
   },
   "file_extension": ".py",
   "mimetype": "text/x-python",
   "name": "python",
   "nbconvert_exporter": "python",
   "pygments_lexer": "ipython3",
   "version": "3.12.10"
  }
 },
 "nbformat": 4,
 "nbformat_minor": 5
}
